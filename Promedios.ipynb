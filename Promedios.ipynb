{
 "cells": [
  {
   "cell_type": "code",
   "execution_count": 1,
   "metadata": {},
   "outputs": [],
   "source": [
    "import numpy as np\n",
    "import pandas as pd\n",
    "import matplotlib as plt\n",
    "import math\n",
    "import random"
   ]
  },
  {
   "cell_type": "markdown",
   "metadata": {},
   "source": [
    "# Numeros random para armar lista ordenada"
   ]
  },
  {
   "cell_type": "code",
   "execution_count": 3,
   "metadata": {},
   "outputs": [
    {
     "name": "stdout",
     "output_type": "stream",
     "text": [
      "Ejecutando 1000 veces el programa; dio que se pudieron ubicar, en promedio, 63.694 numeros en una lista de 101 numeros\n"
     ]
    }
   ],
   "source": [
    "Cantidad = 100\n",
    "Lista_contador2 = []\n",
    "\n",
    "Contador0 = 0 #Veces que se ejecuta el programa\n",
    "Cantidad_ejecucion = 1000 #****************************************** Veces que ejecutaremos el programa ****************************************************************\n",
    "while(Contador0 < Cantidad_ejecucion):\n",
    "    Lista_numerica = []\n",
    "    for i in range(0, Cantidad+1, 1):\n",
    "        Lista_numerica.append(\"@\")\n",
    "\n",
    "    Contador = 0 #Veces que generara un numero random\n",
    "    while(Contador < Cantidad):\n",
    "        Numero = random.randint(0, Cantidad)\n",
    "        if Numero not in Lista_numerica:\n",
    "            Lista_numerica[Numero] = Numero\n",
    "            Contador += 1\n",
    "        else:\n",
    "            Contador += 1\n",
    "\n",
    "    Contador2 = 0 #Numeros bien puestos\n",
    "    for i in Lista_numerica:\n",
    "        if (i != \"@\"):\n",
    "            Contador2 += 1\n",
    "        else:\n",
    "            pass\n",
    "    #print(\"Hay\", Contador2, \"numeros sin completar\")\n",
    "    Lista_contador2.append(Contador2)\n",
    "    Contador0 += 1\n",
    "\n",
    "print(\"Ejecutando\", Cantidad_ejecucion, \"veces el programa; dio que se pudieron ubicar, en promedio,\", sum(Lista_contador2)/len(Lista_contador2), \"numeros en una lista de\", Cantidad+1, \"numeros\")"
   ]
  },
  {
   "cell_type": "markdown",
   "metadata": {},
   "source": [
    "# Promedio random"
   ]
  },
  {
   "cell_type": "code",
   "execution_count": 33,
   "metadata": {},
   "outputs": [
    {
     "name": "stdout",
     "output_type": "stream",
     "text": [
      "Sumando los numeros random: 32\n",
      "Hay 3 numero 0 en 10 numeros random\n",
      "Hay 0 numero 1 en 10 numeros random\n",
      "Hay 1 numero 2 en 10 numeros random\n",
      "Hay 2 numero 3 en 10 numeros random\n",
      "Hay 1 numero 4 en 10 numeros random\n",
      "Hay 1 numero 5 en 10 numeros random\n",
      "Hay 0 numero 6 en 10 numeros random\n",
      "Hay 1 numero 7 en 10 numeros random\n",
      "Hay 1 numero 8 en 10 numeros random\n",
      "Hay 0 numero 9 en 10 numeros random\n",
      "En promedio, se re repitio  1.0 un numero entre 0 y 9\n",
      "10 10\n"
     ]
    },
    {
     "data": {
      "text/plain": [
       "[3, 0, 1, 2, 1, 1, 0, 1, 1, 0]"
      ]
     },
     "execution_count": 33,
     "metadata": {},
     "output_type": "execute_result"
    }
   ],
   "source": [
    "Lista_numeros = []\n",
    "\n",
    "\n",
    "Cantidad_numeros = 10 #Numeros random que vamos a crear\n",
    "for i in range(0, Cantidad_numeros):\n",
    "    Numero = random.randint(0, 9)\n",
    "    Lista_numeros.append(Numero)\n",
    "print(\"Sumando los numeros random:\", sum(Lista_numeros))\n",
    "\n",
    "Promedio = [Lista_numeros.count(0), Lista_numeros.count(1), Lista_numeros.count(2), Lista_numeros.count(3), Lista_numeros.count(4), Lista_numeros.count(5), Lista_numeros.count(6), Lista_numeros.count(7), Lista_numeros.count(8), Lista_numeros.count(9)]\n",
    "print(\"Hay\", Promedio[0], \"numero 0 en\", Cantidad_numeros, \"numeros random\")\n",
    "print(\"Hay\", Promedio[1], \"numero 1 en\", Cantidad_numeros, \"numeros random\")\n",
    "print(\"Hay\", Promedio[2], \"numero 2 en\", Cantidad_numeros, \"numeros random\")\n",
    "print(\"Hay\", Promedio[3], \"numero 3 en\", Cantidad_numeros, \"numeros random\")\n",
    "print(\"Hay\", Promedio[4], \"numero 4 en\", Cantidad_numeros, \"numeros random\")\n",
    "print(\"Hay\", Promedio[5], \"numero 5 en\", Cantidad_numeros, \"numeros random\")\n",
    "print(\"Hay\", Promedio[6], \"numero 6 en\", Cantidad_numeros, \"numeros random\")\n",
    "print(\"Hay\", Promedio[7], \"numero 7 en\", Cantidad_numeros, \"numeros random\")\n",
    "print(\"Hay\", Promedio[8], \"numero 8 en\", Cantidad_numeros, \"numeros random\")\n",
    "print(\"Hay\", Promedio[9], \"numero 9 en\", Cantidad_numeros, \"numeros random\")\n",
    "\n",
    "print(\"En promedio, se re repitio \", sum(Promedio)/len(Promedio), \"un numero entre 0 y 9\")\n",
    "print(sum(Promedio), len(Promedio))\n",
    "Promedio"
   ]
  },
  {
   "cell_type": "code",
   "execution_count": null,
   "metadata": {},
   "outputs": [],
   "source": []
  }
 ],
 "metadata": {
  "kernelspec": {
   "display_name": "Python 3.10.5 64-bit",
   "language": "python",
   "name": "python3"
  },
  "language_info": {
   "codemirror_mode": {
    "name": "ipython",
    "version": 3
   },
   "file_extension": ".py",
   "mimetype": "text/x-python",
   "name": "python",
   "nbconvert_exporter": "python",
   "pygments_lexer": "ipython3",
   "version": "3.10.5"
  },
  "orig_nbformat": 4,
  "vscode": {
   "interpreter": {
    "hash": "3cb5fae0850c922f903a04d3514d1ed4ba39007c82693cf2152432305df4401f"
   }
  }
 },
 "nbformat": 4,
 "nbformat_minor": 2
}
