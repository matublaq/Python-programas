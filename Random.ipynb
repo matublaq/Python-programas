{
 "cells": [
  {
   "cell_type": "code",
   "execution_count": 1,
   "metadata": {},
   "outputs": [],
   "source": [
    "import numpy as np\n",
    "import pandas as pd\n",
    "import random"
   ]
  },
  {
   "cell_type": "markdown",
   "metadata": {},
   "source": [
    "<font style=\"font-size: 50px; color: orange;\">Ruleta</font>"
   ]
  },
  {
   "cell_type": "code",
   "execution_count": 2,
   "metadata": {},
   "outputs": [],
   "source": [
    "def dic_clean(diccionario):\n",
    "    for i in range(0, 37):\n",
    "        diccionario[i] = 0\n",
    "    return diccionario\n",
    "\n",
    "def dic_random(diccionario):\n",
    "    for i in range(0, 37):\n",
    "        num = random.randint(0, 36)\n",
    "        diccionario[num] += 1\n"
   ]
  },
  {
   "cell_type": "code",
   "execution_count": 47,
   "metadata": {},
   "outputs": [
    {
     "data": {
      "text/plain": [
       "[[22, 3],\n",
       " [31, 4],\n",
       " [0, 3],\n",
       " [5, 4],\n",
       " [5, 3],\n",
       " [16, 4],\n",
       " [16, 4],\n",
       " [9, 4],\n",
       " [1, 2],\n",
       " [7, 4],\n",
       " [11, 5],\n",
       " [33, 4],\n",
       " [24, 5],\n",
       " [12, 4],\n",
       " [15, 4],\n",
       " [28, 3],\n",
       " [3, 3],\n",
       " [18, 3],\n",
       " [28, 4],\n",
       " [27, 4],\n",
       " [24, 4],\n",
       " [21, 5],\n",
       " [8, 3],\n",
       " [29, 4],\n",
       " [35, 4],\n",
       " [15, 4],\n",
       " [6, 4],\n",
       " [17, 5],\n",
       " [11, 3],\n",
       " [2, 3],\n",
       " [1, 3],\n",
       " [28, 3],\n",
       " [13, 5],\n",
       " [10, 3],\n",
       " [4, 3],\n",
       " [19, 4],\n",
       " [4, 4]]"
      ]
     },
     "execution_count": 47,
     "metadata": {},
     "output_type": "execute_result"
    }
   ],
   "source": [
    "dic_num = {} \n",
    "list_b1_max = []\n",
    "for n in range(0, 37):\n",
    "    dic_clean(dic_num) #All numbers in 0\n",
    "    dic_random(dic_num) # 37 random numbers\n",
    "    list_b1_max.append(list(max(dic_num.items(), key=lambda item: item[1])))\n",
    "b1_max = max()\n",
    "\n",
    "\n",
    "    #print(max(dic_num.items(), key=lambda item: item[1]))\n"
   ]
  },
  {
   "cell_type": "code",
   "execution_count": null,
   "metadata": {},
   "outputs": [],
   "source": []
  }
 ],
 "metadata": {
  "kernelspec": {
   "display_name": "Python 3",
   "language": "python",
   "name": "python3"
  },
  "language_info": {
   "codemirror_mode": {
    "name": "ipython",
    "version": 3
   },
   "file_extension": ".py",
   "mimetype": "text/x-python",
   "name": "python",
   "nbconvert_exporter": "python",
   "pygments_lexer": "ipython3",
   "version": "3.12.3"
  },
  "orig_nbformat": 4
 },
 "nbformat": 4,
 "nbformat_minor": 2
}
